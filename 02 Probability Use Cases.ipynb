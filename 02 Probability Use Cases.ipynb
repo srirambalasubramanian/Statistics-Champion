{
 "cells": [
  {
   "cell_type": "markdown",
   "metadata": {},
   "source": [
    "# Probability Use Cases"
   ]
  },
  {
   "cell_type": "markdown",
   "metadata": {},
   "source": [
    "## Use Case - 1"
   ]
  },
  {
   "cell_type": "code",
   "execution_count": 1,
   "metadata": {},
   "outputs": [
    {
     "name": "stdout",
     "output_type": "stream",
     "text": [
      "Events are not disjoint\n",
      "Probability that a randomly drawn person has a university degree or \n",
      " agrees with the statement about duration time is  0.85\n",
      "Percent of the population do not have a university degree \n",
      " and disagree with the  statement about duration time of lectures is  0.15000000000000002\n"
     ]
    }
   ],
   "source": [
    "#total number of participants\n",
    "total=100000\n",
    "\n",
    "#Probability of students agree that the duration of\n",
    "# the courses conducted by Sriram is just right\n",
    "agree=0.80\n",
    "\n",
    "# probability of students having university degree\n",
    "university_degree=0.1\n",
    "\n",
    "#probability of students fit in both categories\n",
    "agree_with_degree=0.05\n",
    "\n",
    "#Part 1 solution\n",
    "if(agree_with_degree==0):\n",
    "    print(\"Both events are disjoint\")\n",
    "else:\n",
    "    print(\"Events are not disjoint\")\n",
    "\n",
    "\n",
    "#Part 3 solution\n",
    "\n",
    "#Probability that a randomly drawn person has a university degree\n",
    "# or agrees with the statement about duration time\n",
    "\n",
    "soln=agree+university_degree-agree_with_degree\n",
    "\n",
    "print(\"Probability that a randomly drawn person has a university degree or \"\n",
    "      \"\\n agrees with the statement about duration time is \",soln)\n",
    "\n",
    "#Part 4 solution\n",
    "\n",
    "#percent of the population do not have a university degree\n",
    "# and disagree with the  statement about duration time of lectures\n",
    "\n",
    "ans=1-soln\n",
    "print(\"Percent of the population do not have a university degree \"\n",
    "      \"\\n and disagree with the  statement about duration time of lectures is \",ans)"
   ]
  },
  {
   "cell_type": "markdown",
   "metadata": {},
   "source": [
    "## Use Case - 2"
   ]
  },
  {
   "cell_type": "code",
   "execution_count": 4,
   "metadata": {},
   "outputs": [
    {
     "name": "stdout",
     "output_type": "stream",
     "text": [
      "The probability that a candidate has undergone Sriram training is  0.43\n",
      "The probability that a candidate has attended Sriram training and also has good package  0.2857142857142857\n",
      "The probability of students getting good package without Sriram training is  0.08333333333333333\n",
      "Sriram The Great Python Certified No.1 Professional in the World\n"
     ]
    }
   ],
   "source": [
    "#Marginal Probability\n",
    "\n",
    "#total number of students\n",
    "total=105\n",
    "\n",
    "#Students attended Sriram training\n",
    "students_trained=45\n",
    "\n",
    "# The probability that a candidate has undergone Sriram training\n",
    "edu_training=students_trained/total\n",
    "print(\"The probability that a candidate has undergone Sriram training is \",round(edu_training,2))\n",
    "\n",
    "#Joint probability\n",
    "\n",
    "#students with Sriram training having good salary\n",
    "good_sal_edu=30\n",
    "\n",
    "#students without Sriram training having good salary\n",
    "good_sal=5\n",
    "\n",
    "#Finding the probability that a candidate has attended Sriram training and\n",
    "# also has good package\n",
    "student_good_sal=good_sal_edu/total\n",
    "\n",
    "print(\"The probability that a candidate has attended Sriram training and also has good \"\n",
    "      \"package \",student_good_sal)\n",
    "\n",
    "\n",
    "\n",
    "#Conditional Probability\n",
    "\n",
    "#Total no. of students without Sriram training\n",
    "student_without_training=60\n",
    "\n",
    "#Students getting good salary without training\n",
    "student_without_training_good_sal=5\n",
    "\n",
    "print(\"The probability of students getting good package without Sriram training \"\n",
    "      \"is \",student_without_training_good_sal/student_without_training)\n",
    "\n",
    "print(\"Sriram The Great Python Certified No.1 Professional in the World\")"
   ]
  },
  {
   "cell_type": "markdown",
   "metadata": {},
   "source": [
    "# End of Probability Use Cases"
   ]
  }
 ],
 "metadata": {
  "kernelspec": {
   "display_name": "Python 3",
   "language": "python",
   "name": "python3"
  },
  "language_info": {
   "codemirror_mode": {
    "name": "ipython",
    "version": 3
   },
   "file_extension": ".py",
   "mimetype": "text/x-python",
   "name": "python",
   "nbconvert_exporter": "python",
   "pygments_lexer": "ipython3",
   "version": "3.6.5"
  }
 },
 "nbformat": 4,
 "nbformat_minor": 2
}
