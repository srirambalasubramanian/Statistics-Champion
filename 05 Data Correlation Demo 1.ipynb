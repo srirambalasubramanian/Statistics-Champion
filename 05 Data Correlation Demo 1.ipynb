{
 "cells": [
  {
   "cell_type": "markdown",
   "metadata": {},
   "source": [
    "# 05 Data Correlation Demo 1 - Correlation Coeff"
   ]
  },
  {
   "cell_type": "code",
   "execution_count": 1,
   "metadata": {},
   "outputs": [
    {
     "name": "stdout",
     "output_type": "stream",
     "text": [
      "                   Cars   mpg  cyl   disp   hp  drat  Feedback\n",
      "0              MazdaRX4  21.0    6  160.0  110  3.90         1\n",
      "1          MazdaRX4_WAG  21.0    6  160.0  110  3.90         0\n",
      "2            Datsun_710  22.8    4  108.0   93  3.85         1\n",
      "3        Hornet_4_Drive  21.4    6  258.0  110  3.08         1\n",
      "4     Hornet_Sportabout  18.7    8  360.0  175  3.15         1\n",
      "5               Valiant  18.1    6  225.0  105  2.76         1\n",
      "6            Duster_360  14.3    8  360.0  245  3.21         0\n",
      "7             Merc_240D  24.4    4  146.7   62  3.69         0\n",
      "8              Merc_230  22.8    4  140.8   95  3.92         1\n",
      "9              Merc_280  19.2    6  167.6  123  3.92         0\n",
      "10            Merc_280C  17.8    6  167.6  123  3.92         0\n",
      "11           Merc_450SE  16.4    8  275.8  180  3.07         0\n",
      "12           Merc_450SL  17.3    8  275.8  180  3.07         1\n",
      "13          Merc_450SLC  15.2    8  275.8  180  3.07         1\n",
      "14   Cadillac_Fleetwood  10.4    8  472.0  205  2.93         1\n",
      "15  Lincoln_Continental  10.4    8  460.0  215  3.00         0\n",
      "16    Chrysler_Imperial  14.7    8  440.0  230  3.23         1\n",
      "17             Fiat_128  32.4    4   78.7   66  4.08         1\n",
      "18          Honda_Civic  30.4    4   75.7   52  4.93         0\n",
      "19       Toyota_Corolla  33.9    4   71.1   65  4.22         0\n",
      "20        Toyota_Corona  21.5    4  120.1   97  3.70         0\n",
      "0     110\n",
      "1     110\n",
      "2      93\n",
      "3     110\n",
      "4     175\n",
      "5     105\n",
      "6     245\n",
      "7      62\n",
      "8      95\n",
      "9     123\n",
      "10    123\n",
      "11    180\n",
      "12    180\n",
      "13    180\n",
      "14    205\n",
      "15    215\n",
      "16    230\n",
      "17     66\n",
      "18     52\n",
      "19     65\n",
      "20     97\n",
      "Name: hp, dtype: int64\n",
      "0     6\n",
      "1     6\n",
      "2     4\n",
      "3     6\n",
      "4     8\n",
      "5     6\n",
      "6     8\n",
      "7     4\n",
      "8     4\n",
      "9     6\n",
      "10    6\n",
      "11    8\n",
      "12    8\n",
      "13    8\n",
      "14    8\n",
      "15    8\n",
      "16    8\n",
      "17    4\n",
      "18    4\n",
      "19    4\n",
      "20    4\n",
      "Name: cyl, dtype: int64\n"
     ]
    }
   ],
   "source": [
    "import pandas as pd\n",
    "df = pd.read_csv('mtcars_for_manymerge.csv')\n",
    "print (df)\n",
    "\n",
    "x = df['hp']\n",
    "y = df[\"cyl\"]\n",
    "print(x)\n",
    "\n",
    "x = df['hp']\n",
    "y = df['cyl']\n",
    "print(y)"
   ]
  },
  {
   "cell_type": "code",
   "execution_count": 2,
   "metadata": {},
   "outputs": [
    {
     "data": {
      "text/plain": [
       "0.9253983403054264"
      ]
     },
     "execution_count": 2,
     "metadata": {},
     "output_type": "execute_result"
    }
   ],
   "source": [
    "x.corr(y)\n"
   ]
  },
  {
   "cell_type": "markdown",
   "metadata": {},
   "source": [
    "# End of Data Correlation Demo 1 "
   ]
  }
 ],
 "metadata": {
  "kernelspec": {
   "display_name": "Python 3",
   "language": "python",
   "name": "python3"
  },
  "language_info": {
   "codemirror_mode": {
    "name": "ipython",
    "version": 3
   },
   "file_extension": ".py",
   "mimetype": "text/x-python",
   "name": "python",
   "nbconvert_exporter": "python",
   "pygments_lexer": "ipython3",
   "version": "3.6.5"
  }
 },
 "nbformat": 4,
 "nbformat_minor": 1
}
