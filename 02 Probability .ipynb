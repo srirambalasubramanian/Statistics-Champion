{
 "cells": [
  {
   "cell_type": "markdown",
   "metadata": {},
   "source": [
    "# Probability & Distribution Demo "
   ]
  },
  {
   "cell_type": "markdown",
   "metadata": {},
   "source": [
    "# Probability"
   ]
  },
  {
   "cell_type": "code",
   "execution_count": 12,
   "metadata": {},
   "outputs": [
    {
     "name": "stdout",
     "output_type": "stream",
     "text": [
      "<scipy.stats._distn_infrastructure.rv_frozen object at 0x00000275AEFBA160>\n",
      "0.3989422804014327\n",
      "0.5\n",
      "<scipy.stats._distn_infrastructure.rv_frozen object at 0x00000275AFD8F048>\n",
      "0.032786643008494994\n",
      "0.43381616738909634\n",
      "0.5\n"
     ]
    }
   ],
   "source": [
    "import scipy.stats\n",
    "print(scipy.stats.norm(0, 1))\n",
    "\n",
    "print(scipy.stats.norm(0, 1).pdf(0))\n",
    "print(scipy.stats.norm(0, 1).cdf(0))\n",
    "print(scipy.stats.norm(100, 12))\n",
    "print(scipy.stats.norm(100, 12).pdf(98))\n",
    "print(scipy.stats.norm(100, 12).cdf(98))\n",
    "print(scipy.stats.norm(100, 12).cdf(100))"
   ]
  },
  {
   "cell_type": "markdown",
   "metadata": {},
   "source": [
    "## Types of Probability"
   ]
  },
  {
   "cell_type": "code",
   "execution_count": 2,
   "metadata": {},
   "outputs": [],
   "source": [
    "%matplotlib inline"
   ]
  },
  {
   "cell_type": "code",
   "execution_count": 3,
   "metadata": {},
   "outputs": [
    {
     "name": "stdout",
     "output_type": "stream",
     "text": [
      "Hello world\n"
     ]
    }
   ],
   "source": [
    "print(\"Hello world\")\n",
    "import pandas as pd"
   ]
  },
  {
   "cell_type": "markdown",
   "metadata": {},
   "source": [
    "### Conditional Probability"
   ]
  },
  {
   "cell_type": "code",
   "execution_count": 4,
   "metadata": {},
   "outputs": [
    {
     "name": "stdout",
     "output_type": "stream",
     "text": [
      "  company    model rating   type\n",
      "0    ford  mustang      A  coupe\n",
      "1   chevy   camaro      B  coupe\n",
      "2    ford   fiesta      C  sedan\n",
      "3    ford    focus      A  sedan\n",
      "4    ford   taurus      B  sedan\n",
      "5  toyota    camry      B  sedan\n"
     ]
    }
   ],
   "source": [
    "df = pd.DataFrame({'company': ['ford', 'chevy', 'ford', 'ford', 'ford', 'toyota'],\n",
    "                     'model': ['mustang', 'camaro', 'fiesta', 'focus', 'taurus', 'camry'],\n",
    "                     'rating': ['A', 'B', 'C', 'A', 'B', 'B'],\n",
    "                     'type': ['coupe', 'coupe', 'sedan', 'sedan', 'sedan', 'sedan']})\n",
    "print(df)"
   ]
  },
  {
   "cell_type": "code",
   "execution_count": 5,
   "metadata": {},
   "outputs": [
    {
     "data": {
      "text/plain": [
       "rating\n",
       "A    0.333333\n",
       "B    0.500000\n",
       "C    0.166667\n",
       "Name: model, dtype: float64"
      ]
     },
     "execution_count": 5,
     "metadata": {},
     "output_type": "execute_result"
    }
   ],
   "source": [
    "df.groupby('rating').count()['model'] / len(df)"
   ]
  },
  {
   "cell_type": "code",
   "execution_count": 6,
   "metadata": {},
   "outputs": [
    {
     "data": {
      "text/plain": [
       "rating  type \n",
       "A       coupe    0.500000\n",
       "        sedan    0.500000\n",
       "B       coupe    0.333333\n",
       "        sedan    0.666667\n",
       "C       sedan    1.000000\n",
       "Name: model, dtype: float64"
      ]
     },
     "execution_count": 6,
     "metadata": {},
     "output_type": "execute_result"
    }
   ],
   "source": [
    "(df.groupby(['rating', 'type']).count() / df.groupby('rating').count())['model']"
   ]
  },
  {
   "cell_type": "markdown",
   "metadata": {},
   "source": [
    "### Joint Probability"
   ]
  },
  {
   "cell_type": "code",
   "execution_count": 38,
   "metadata": {},
   "outputs": [
    {
     "name": "stdout",
     "output_type": "stream",
     "text": [
      "[[[  0.00000000e+00   0.00000000e+00   0.00000000e+00   0.00000000e+00\n",
      "     0.00000000e+00   0.00000000e+00   0.00000000e+00   0.00000000e+00\n",
      "     0.00000000e+00   0.00000000e+00]\n",
      "  [  0.00000000e+00   0.00000000e+00   0.00000000e+00   0.00000000e+00\n",
      "     0.00000000e+00   0.00000000e+00   0.00000000e+00   0.00000000e+00\n",
      "     0.00000000e+00   0.00000000e+00]\n",
      "  [  0.00000000e+00   0.00000000e+00   0.00000000e+00   0.00000000e+00\n",
      "     0.00000000e+00   0.00000000e+00   0.00000000e+00   0.00000000e+00\n",
      "     0.00000000e+00   0.00000000e+00]\n",
      "  [  0.00000000e+00   0.00000000e+00   0.00000000e+00   0.00000000e+00\n",
      "     0.00000000e+00   0.00000000e+00   0.00000000e+00   0.00000000e+00\n",
      "     0.00000000e+00   0.00000000e+00]\n",
      "  [  0.00000000e+00   0.00000000e+00   1.00000000e-05   2.00000000e-05\n",
      "     5.00000000e-05   2.00000000e-05   0.00000000e+00   1.00000000e-05\n",
      "     0.00000000e+00   0.00000000e+00]\n",
      "  [  0.00000000e+00   0.00000000e+00   0.00000000e+00   0.00000000e+00\n",
      "     1.00000000e-05   1.00000000e-05   2.00000000e-05   0.00000000e+00\n",
      "     0.00000000e+00   0.00000000e+00]\n",
      "  [  0.00000000e+00   0.00000000e+00   0.00000000e+00   0.00000000e+00\n",
      "     3.00000000e-05   1.00000000e-05   1.00000000e-05   0.00000000e+00\n",
      "     0.00000000e+00   0.00000000e+00]\n",
      "  [  0.00000000e+00   0.00000000e+00   0.00000000e+00   0.00000000e+00\n",
      "     0.00000000e+00   0.00000000e+00   0.00000000e+00   0.00000000e+00\n",
      "     0.00000000e+00   0.00000000e+00]\n",
      "  [  0.00000000e+00   0.00000000e+00   0.00000000e+00   0.00000000e+00\n",
      "     0.00000000e+00   0.00000000e+00   0.00000000e+00   0.00000000e+00\n",
      "     0.00000000e+00   0.00000000e+00]\n",
      "  [  0.00000000e+00   0.00000000e+00   0.00000000e+00   0.00000000e+00\n",
      "     0.00000000e+00   0.00000000e+00   0.00000000e+00   0.00000000e+00\n",
      "     0.00000000e+00   0.00000000e+00]]\n",
      "\n",
      " [[  0.00000000e+00   0.00000000e+00   0.00000000e+00   0.00000000e+00\n",
      "     0.00000000e+00   0.00000000e+00   0.00000000e+00   0.00000000e+00\n",
      "     0.00000000e+00   0.00000000e+00]\n",
      "  [  0.00000000e+00   0.00000000e+00   0.00000000e+00   0.00000000e+00\n",
      "     0.00000000e+00   0.00000000e+00   0.00000000e+00   0.00000000e+00\n",
      "     0.00000000e+00   0.00000000e+00]\n",
      "  [  0.00000000e+00   0.00000000e+00   1.00000000e-05   2.00000000e-05\n",
      "     4.00000000e-05   5.00000000e-05   2.00000000e-05   0.00000000e+00\n",
      "     0.00000000e+00   0.00000000e+00]\n",
      "  [  0.00000000e+00   1.00000000e-05   3.00000000e-05   6.00000000e-05\n",
      "     1.60000000e-04   1.90000000e-04   7.00000000e-05   3.00000000e-05\n",
      "     0.00000000e+00   0.00000000e+00]\n",
      "  [  0.00000000e+00   1.00000000e-05   5.00000000e-05   1.80000000e-04\n",
      "     3.20000000e-04   5.00000000e-04   1.90000000e-04   9.00000000e-05\n",
      "     0.00000000e+00   0.00000000e+00]\n",
      "  [  0.00000000e+00   0.00000000e+00   5.00000000e-05   1.60000000e-04\n",
      "     4.70000000e-04   3.60000000e-04   1.80000000e-04   8.00000000e-05\n",
      "     0.00000000e+00   0.00000000e+00]\n",
      "  [  0.00000000e+00   0.00000000e+00   1.00000000e-05   5.00000000e-05\n",
      "     2.10000000e-04   2.50000000e-04   1.10000000e-04   7.00000000e-05\n",
      "     0.00000000e+00   0.00000000e+00]\n",
      "  [  0.00000000e+00   0.00000000e+00   0.00000000e+00   0.00000000e+00\n",
      "     7.00000000e-05   2.00000000e-05   2.00000000e-05   2.00000000e-05\n",
      "     0.00000000e+00   0.00000000e+00]\n",
      "  [  0.00000000e+00   0.00000000e+00   0.00000000e+00   0.00000000e+00\n",
      "     0.00000000e+00   2.00000000e-05   0.00000000e+00   0.00000000e+00\n",
      "     0.00000000e+00   0.00000000e+00]\n",
      "  [  0.00000000e+00   0.00000000e+00   0.00000000e+00   0.00000000e+00\n",
      "     0.00000000e+00   0.00000000e+00   0.00000000e+00   0.00000000e+00\n",
      "     0.00000000e+00   0.00000000e+00]]\n",
      "\n",
      " [[  0.00000000e+00   0.00000000e+00   0.00000000e+00   0.00000000e+00\n",
      "     0.00000000e+00   1.00000000e-05   0.00000000e+00   0.00000000e+00\n",
      "     0.00000000e+00   0.00000000e+00]\n",
      "  [  0.00000000e+00   0.00000000e+00   0.00000000e+00   0.00000000e+00\n",
      "     3.00000000e-05   7.00000000e-05   2.00000000e-05   1.00000000e-05\n",
      "     0.00000000e+00   0.00000000e+00]\n",
      "  [  0.00000000e+00   0.00000000e+00   4.00000000e-05   1.30000000e-04\n",
      "     3.90000000e-04   3.30000000e-04   1.90000000e-04   7.00000000e-05\n",
      "     1.00000000e-05   0.00000000e+00]\n",
      "  [  1.00000000e-05   2.00000000e-05   1.60000000e-04   9.70000000e-04\n",
      "     1.52000000e-03   1.85000000e-03   1.10000000e-03   3.30000000e-04\n",
      "     6.00000000e-05   0.00000000e+00]\n",
      "  [  0.00000000e+00   2.00000000e-05   3.70000000e-04   1.92000000e-03\n",
      "     4.13000000e-03   4.39000000e-03   2.46000000e-03   6.60000000e-04\n",
      "     5.00000000e-05   1.00000000e-05]\n",
      "  [  1.00000000e-05   8.00000000e-05   4.70000000e-04   1.66000000e-03\n",
      "     3.91000000e-03   4.87000000e-03   2.50000000e-03   7.00000000e-04\n",
      "     9.00000000e-05   0.00000000e+00]\n",
      "  [  0.00000000e+00   4.00000000e-05   2.60000000e-04   8.30000000e-04\n",
      "     2.11000000e-03   2.42000000e-03   1.06000000e-03   3.70000000e-04\n",
      "     3.00000000e-05   0.00000000e+00]\n",
      "  [  0.00000000e+00   0.00000000e+00   6.00000000e-05   2.40000000e-04\n",
      "     5.80000000e-04   5.50000000e-04   3.30000000e-04   1.30000000e-04\n",
      "     4.00000000e-05   0.00000000e+00]\n",
      "  [  0.00000000e+00   0.00000000e+00   0.00000000e+00   2.00000000e-05\n",
      "     4.00000000e-05   6.00000000e-05   3.00000000e-05   0.00000000e+00\n",
      "     0.00000000e+00   0.00000000e+00]\n",
      "  [  0.00000000e+00   0.00000000e+00   0.00000000e+00   0.00000000e+00\n",
      "     0.00000000e+00   0.00000000e+00   0.00000000e+00   0.00000000e+00\n",
      "     0.00000000e+00   0.00000000e+00]]\n",
      "\n",
      " [[  0.00000000e+00   0.00000000e+00   0.00000000e+00   1.00000000e-05\n",
      "     2.00000000e-05   2.00000000e-05   0.00000000e+00   0.00000000e+00\n",
      "     0.00000000e+00   0.00000000e+00]\n",
      "  [  0.00000000e+00   0.00000000e+00   2.00000000e-05   5.00000000e-05\n",
      "     1.60000000e-04   1.50000000e-04   8.00000000e-05   2.00000000e-05\n",
      "     1.00000000e-05   0.00000000e+00]\n",
      "  [  0.00000000e+00   3.00000000e-05   1.10000000e-04   7.30000000e-04\n",
      "     1.58000000e-03   1.74000000e-03   8.70000000e-04   2.30000000e-04\n",
      "     3.00000000e-05   0.00000000e+00]\n",
      "  [  0.00000000e+00   6.00000000e-05   8.90000000e-04   3.80000000e-03\n",
      "     7.76000000e-03   8.99000000e-03   4.55000000e-03   1.25000000e-03\n",
      "     1.30000000e-04   1.00000000e-05]\n",
      "  [  1.00000000e-05   2.00000000e-04   1.96000000e-03   7.81000000e-03\n",
      "     1.75200000e-02   1.90900000e-02   1.06000000e-02   3.00000000e-03\n",
      "     3.40000000e-04   5.00000000e-05]\n",
      "  [  1.00000000e-05   1.30000000e-04   1.96000000e-03   8.81000000e-03\n",
      "     1.87300000e-02   2.03100000e-02   1.17000000e-02   3.16000000e-03\n",
      "     3.80000000e-04   2.00000000e-05]\n",
      "  [  1.00000000e-05   8.00000000e-05   9.70000000e-04   3.80000000e-03\n",
      "     9.15000000e-03   1.01500000e-02   5.32000000e-03   1.57000000e-03\n",
      "     2.20000000e-04   0.00000000e+00]\n",
      "  [  0.00000000e+00   2.00000000e-05   2.10000000e-04   8.30000000e-04\n",
      "     2.12000000e-03   2.18000000e-03   1.20000000e-03   3.10000000e-04\n",
      "     1.00000000e-05   0.00000000e+00]\n",
      "  [  0.00000000e+00   0.00000000e+00   4.00000000e-05   1.10000000e-04\n",
      "     1.80000000e-04   2.60000000e-04   1.10000000e-04   0.00000000e+00\n",
      "     0.00000000e+00   0.00000000e+00]\n",
      "  [  0.00000000e+00   0.00000000e+00   0.00000000e+00   0.00000000e+00\n",
      "     2.00000000e-05   0.00000000e+00   1.00000000e-05   0.00000000e+00\n",
      "     0.00000000e+00   0.00000000e+00]]\n",
      "\n",
      " [[  0.00000000e+00   0.00000000e+00   0.00000000e+00   0.00000000e+00\n",
      "     3.00000000e-05   2.00000000e-05   2.00000000e-05   0.00000000e+00\n",
      "     0.00000000e+00   0.00000000e+00]\n",
      "  [  0.00000000e+00   0.00000000e+00   2.00000000e-05   1.60000000e-04\n",
      "     3.10000000e-04   3.20000000e-04   1.80000000e-04   4.00000000e-05\n",
      "     1.00000000e-05   0.00000000e+00]\n",
      "  [  0.00000000e+00   8.00000000e-05   3.90000000e-04   1.65000000e-03\n",
      "     3.01000000e-03   2.87000000e-03   1.90000000e-03   5.40000000e-04\n",
      "     4.00000000e-05   1.00000000e-05]\n",
      "  [  2.00000000e-05   1.10000000e-04   1.56000000e-03   6.58000000e-03\n",
      "     1.38500000e-02   1.63200000e-02   8.38000000e-03   2.30000000e-03\n",
      "     4.70000000e-04   5.00000000e-05]\n",
      "  [  1.00000000e-05   3.70000000e-04   3.37000000e-03   1.45900000e-02\n",
      "     3.23800000e-02   3.58900000e-02   1.96500000e-02   5.54000000e-03\n",
      "     6.60000000e-04   8.00000000e-05]\n",
      "  [  2.00000000e-05   4.10000000e-04   3.53000000e-03   1.53500000e-02\n",
      "     3.52000000e-02   3.83000000e-02   2.13600000e-02   5.78000000e-03\n",
      "     7.30000000e-04   6.00000000e-05]\n",
      "  [  0.00000000e+00   2.50000000e-04   1.76000000e-03   7.61000000e-03\n",
      "     1.74600000e-02   1.88800000e-02   1.03000000e-02   2.85000000e-03\n",
      "     3.40000000e-04   1.00000000e-05]\n",
      "  [  0.00000000e+00   2.00000000e-05   3.30000000e-04   1.60000000e-03\n",
      "     3.83000000e-03   3.99000000e-03   2.54000000e-03   6.60000000e-04\n",
      "     6.00000000e-05   1.00000000e-05]\n",
      "  [  0.00000000e+00   1.00000000e-05   4.00000000e-05   1.80000000e-04\n",
      "     3.50000000e-04   5.10000000e-04   3.30000000e-04   5.00000000e-05\n",
      "     0.00000000e+00   0.00000000e+00]\n",
      "  [  0.00000000e+00   0.00000000e+00   0.00000000e+00   1.00000000e-05\n",
      "     2.00000000e-05   3.00000000e-05   2.00000000e-05   0.00000000e+00\n",
      "     0.00000000e+00   0.00000000e+00]]\n",
      "\n",
      " [[  0.00000000e+00   0.00000000e+00   0.00000000e+00   0.00000000e+00\n",
      "     0.00000000e+00   1.00000000e-05   0.00000000e+00   1.00000000e-05\n",
      "     0.00000000e+00   0.00000000e+00]\n",
      "  [  0.00000000e+00   1.00000000e-05   3.00000000e-05   1.00000000e-04\n",
      "     2.80000000e-04   2.20000000e-04   1.30000000e-04   3.00000000e-05\n",
      "     0.00000000e+00   0.00000000e+00]\n",
      "  [  1.00000000e-05   2.00000000e-05   1.90000000e-04   9.90000000e-04\n",
      "     2.36000000e-03   2.47000000e-03   1.24000000e-03   3.70000000e-04\n",
      "     5.00000000e-05   0.00000000e+00]\n",
      "  [  0.00000000e+00   1.50000000e-04   1.16000000e-03   5.16000000e-03\n",
      "     1.10900000e-02   1.17800000e-02   6.61000000e-03   1.95000000e-03\n",
      "     2.60000000e-04   2.00000000e-05]\n",
      "  [  1.00000000e-05   3.10000000e-04   2.70000000e-03   1.16500000e-02\n",
      "     2.54200000e-02   2.77700000e-02   1.52500000e-02   4.31000000e-03\n",
      "     4.30000000e-04   4.00000000e-05]\n",
      "  [  4.00000000e-05   2.20000000e-04   2.62000000e-03   1.23000000e-02\n",
      "     2.56800000e-02   2.87600000e-02   1.65400000e-02   4.36000000e-03\n",
      "     6.60000000e-04   1.00000000e-05]\n",
      "  [  0.00000000e+00   9.00000000e-05   1.36000000e-03   6.30000000e-03\n",
      "     1.30300000e-02   1.42800000e-02   8.34000000e-03   2.18000000e-03\n",
      "     2.80000000e-04   3.00000000e-05]\n",
      "  [  0.00000000e+00   1.00000000e-05   3.30000000e-04   1.15000000e-03\n",
      "     2.97000000e-03   3.02000000e-03   1.82000000e-03   4.80000000e-04\n",
      "     9.00000000e-05   0.00000000e+00]\n",
      "  [  0.00000000e+00   0.00000000e+00   4.00000000e-05   1.30000000e-04\n",
      "     3.70000000e-04   4.30000000e-04   2.00000000e-04   3.00000000e-05\n",
      "     1.00000000e-05   0.00000000e+00]\n",
      "  [  0.00000000e+00   0.00000000e+00   0.00000000e+00   0.00000000e+00\n",
      "     2.00000000e-05   2.00000000e-05   0.00000000e+00   0.00000000e+00\n",
      "     0.00000000e+00   0.00000000e+00]]\n",
      "\n",
      " [[  0.00000000e+00   0.00000000e+00   0.00000000e+00   0.00000000e+00\n",
      "     0.00000000e+00   1.00000000e-05   1.00000000e-05   0.00000000e+00\n",
      "     0.00000000e+00   0.00000000e+00]\n",
      "  [  0.00000000e+00   0.00000000e+00   1.00000000e-05   1.00000000e-05\n",
      "     6.00000000e-05   4.00000000e-05   3.00000000e-05   0.00000000e+00\n",
      "     1.00000000e-05   0.00000000e+00]\n",
      "  [  0.00000000e+00   0.00000000e+00   6.00000000e-05   4.00000000e-04\n",
      "     7.70000000e-04   8.90000000e-04   4.30000000e-04   1.20000000e-04\n",
      "     1.00000000e-05   0.00000000e+00]\n",
      "  [  0.00000000e+00   5.00000000e-05   3.50000000e-04   1.63000000e-03\n",
      "     3.53000000e-03   4.12000000e-03   1.97000000e-03   4.10000000e-04\n",
      "     8.00000000e-05   1.00000000e-05]\n",
      "  [  0.00000000e+00   1.30000000e-04   7.10000000e-04   3.33000000e-03\n",
      "     7.64000000e-03   8.85000000e-03   4.76000000e-03   1.27000000e-03\n",
      "     2.00000000e-04   1.00000000e-05]\n",
      "  [  1.00000000e-05   1.50000000e-04   8.40000000e-04   3.54000000e-03\n",
      "     8.08000000e-03   9.38000000e-03   5.09000000e-03   1.33000000e-03\n",
      "     1.80000000e-04   1.00000000e-05]\n",
      "  [  1.00000000e-05   4.00000000e-05   4.40000000e-04   1.83000000e-03\n",
      "     4.26000000e-03   4.63000000e-03   2.61000000e-03   8.30000000e-04\n",
      "     7.00000000e-05   1.00000000e-05]\n",
      "  [  0.00000000e+00   1.00000000e-05   8.00000000e-05   4.20000000e-04\n",
      "     1.17000000e-03   8.70000000e-04   5.70000000e-04   1.40000000e-04\n",
      "     2.00000000e-05   0.00000000e+00]\n",
      "  [  0.00000000e+00   0.00000000e+00   1.00000000e-05   7.00000000e-05\n",
      "     1.10000000e-04   1.20000000e-04   5.00000000e-05   2.00000000e-05\n",
      "     0.00000000e+00   0.00000000e+00]\n",
      "  [  0.00000000e+00   0.00000000e+00   0.00000000e+00   0.00000000e+00\n",
      "     0.00000000e+00   1.00000000e-05   0.00000000e+00   0.00000000e+00\n",
      "     0.00000000e+00   0.00000000e+00]]\n",
      "\n",
      " [[  0.00000000e+00   0.00000000e+00   0.00000000e+00   0.00000000e+00\n",
      "     0.00000000e+00   0.00000000e+00   0.00000000e+00   0.00000000e+00\n",
      "     0.00000000e+00   0.00000000e+00]\n",
      "  [  0.00000000e+00   0.00000000e+00   0.00000000e+00   1.00000000e-05\n",
      "     0.00000000e+00   3.00000000e-05   0.00000000e+00   0.00000000e+00\n",
      "     0.00000000e+00   0.00000000e+00]\n",
      "  [  0.00000000e+00   0.00000000e+00   2.00000000e-05   7.00000000e-05\n",
      "     5.00000000e-05   1.00000000e-04   7.00000000e-05   2.00000000e-05\n",
      "     0.00000000e+00   0.00000000e+00]\n",
      "  [  0.00000000e+00   0.00000000e+00   6.00000000e-05   1.50000000e-04\n",
      "     4.90000000e-04   5.20000000e-04   2.60000000e-04   1.00000000e-04\n",
      "     0.00000000e+00   0.00000000e+00]\n",
      "  [  0.00000000e+00   1.00000000e-05   5.00000000e-05   4.70000000e-04\n",
      "     1.11000000e-03   1.18000000e-03   5.30000000e-04   1.70000000e-04\n",
      "     2.00000000e-05   1.00000000e-05]\n",
      "  [  0.00000000e+00   1.00000000e-05   1.20000000e-04   5.90000000e-04\n",
      "     1.09000000e-03   1.25000000e-03   5.40000000e-04   2.60000000e-04\n",
      "     4.00000000e-05   0.00000000e+00]\n",
      "  [  0.00000000e+00   1.00000000e-05   5.00000000e-05   3.20000000e-04\n",
      "     4.30000000e-04   5.90000000e-04   4.30000000e-04   7.00000000e-05\n",
      "     2.00000000e-05   0.00000000e+00]\n",
      "  [  0.00000000e+00   0.00000000e+00   0.00000000e+00   4.00000000e-05\n",
      "     1.20000000e-04   2.50000000e-04   9.00000000e-05   1.00000000e-05\n",
      "     0.00000000e+00   0.00000000e+00]\n",
      "  [  0.00000000e+00   0.00000000e+00   0.00000000e+00   0.00000000e+00\n",
      "     1.00000000e-05   2.00000000e-05   1.00000000e-05   1.00000000e-05\n",
      "     0.00000000e+00   0.00000000e+00]\n",
      "  [  0.00000000e+00   0.00000000e+00   0.00000000e+00   0.00000000e+00\n",
      "     0.00000000e+00   0.00000000e+00   0.00000000e+00   0.00000000e+00\n",
      "     0.00000000e+00   0.00000000e+00]]\n",
      "\n",
      " [[  0.00000000e+00   0.00000000e+00   0.00000000e+00   0.00000000e+00\n",
      "     0.00000000e+00   0.00000000e+00   0.00000000e+00   0.00000000e+00\n",
      "     0.00000000e+00   0.00000000e+00]\n",
      "  [  0.00000000e+00   0.00000000e+00   0.00000000e+00   0.00000000e+00\n",
      "     0.00000000e+00   0.00000000e+00   0.00000000e+00   0.00000000e+00\n",
      "     0.00000000e+00   0.00000000e+00]\n",
      "  [  0.00000000e+00   0.00000000e+00   0.00000000e+00   0.00000000e+00\n",
      "     1.00000000e-05   1.00000000e-05   1.00000000e-05   0.00000000e+00\n",
      "     0.00000000e+00   0.00000000e+00]\n",
      "  [  0.00000000e+00   0.00000000e+00   0.00000000e+00   0.00000000e+00\n",
      "     2.00000000e-05   4.00000000e-05   1.00000000e-05   0.00000000e+00\n",
      "     0.00000000e+00   0.00000000e+00]\n",
      "  [  0.00000000e+00   0.00000000e+00   0.00000000e+00   2.00000000e-05\n",
      "     6.00000000e-05   9.00000000e-05   4.00000000e-05   2.00000000e-05\n",
      "     0.00000000e+00   0.00000000e+00]\n",
      "  [  0.00000000e+00   0.00000000e+00   0.00000000e+00   3.00000000e-05\n",
      "     6.00000000e-05   6.00000000e-05   5.00000000e-05   4.00000000e-05\n",
      "     0.00000000e+00   0.00000000e+00]\n",
      "  [  0.00000000e+00   0.00000000e+00   0.00000000e+00   1.00000000e-05\n",
      "     2.00000000e-05   0.00000000e+00   2.00000000e-05   0.00000000e+00\n",
      "     0.00000000e+00   0.00000000e+00]\n",
      "  [  0.00000000e+00   0.00000000e+00   0.00000000e+00   0.00000000e+00\n",
      "     0.00000000e+00   1.00000000e-05   0.00000000e+00   1.00000000e-05\n",
      "     0.00000000e+00   0.00000000e+00]\n",
      "  [  0.00000000e+00   0.00000000e+00   0.00000000e+00   0.00000000e+00\n",
      "     0.00000000e+00   0.00000000e+00   0.00000000e+00   0.00000000e+00\n",
      "     0.00000000e+00   0.00000000e+00]\n",
      "  [  0.00000000e+00   0.00000000e+00   0.00000000e+00   0.00000000e+00\n",
      "     0.00000000e+00   0.00000000e+00   0.00000000e+00   0.00000000e+00\n",
      "     0.00000000e+00   0.00000000e+00]]\n",
      "\n",
      " [[  0.00000000e+00   0.00000000e+00   0.00000000e+00   0.00000000e+00\n",
      "     0.00000000e+00   0.00000000e+00   0.00000000e+00   0.00000000e+00\n",
      "     0.00000000e+00   0.00000000e+00]\n",
      "  [  0.00000000e+00   0.00000000e+00   0.00000000e+00   0.00000000e+00\n",
      "     0.00000000e+00   0.00000000e+00   0.00000000e+00   0.00000000e+00\n",
      "     0.00000000e+00   0.00000000e+00]\n",
      "  [  0.00000000e+00   0.00000000e+00   0.00000000e+00   0.00000000e+00\n",
      "     0.00000000e+00   0.00000000e+00   0.00000000e+00   0.00000000e+00\n",
      "     0.00000000e+00   0.00000000e+00]\n",
      "  [  0.00000000e+00   0.00000000e+00   0.00000000e+00   0.00000000e+00\n",
      "     0.00000000e+00   0.00000000e+00   0.00000000e+00   0.00000000e+00\n",
      "     0.00000000e+00   0.00000000e+00]\n",
      "  [  0.00000000e+00   0.00000000e+00   0.00000000e+00   1.00000000e-05\n",
      "     0.00000000e+00   2.00000000e-05   0.00000000e+00   0.00000000e+00\n",
      "     0.00000000e+00   0.00000000e+00]\n",
      "  [  0.00000000e+00   0.00000000e+00   0.00000000e+00   0.00000000e+00\n",
      "     0.00000000e+00   0.00000000e+00   0.00000000e+00   0.00000000e+00\n",
      "     0.00000000e+00   0.00000000e+00]\n",
      "  [  0.00000000e+00   0.00000000e+00   0.00000000e+00   0.00000000e+00\n",
      "     0.00000000e+00   0.00000000e+00   0.00000000e+00   0.00000000e+00\n",
      "     0.00000000e+00   0.00000000e+00]\n",
      "  [  0.00000000e+00   0.00000000e+00   0.00000000e+00   0.00000000e+00\n",
      "     0.00000000e+00   0.00000000e+00   0.00000000e+00   0.00000000e+00\n",
      "     0.00000000e+00   0.00000000e+00]\n",
      "  [  0.00000000e+00   0.00000000e+00   0.00000000e+00   0.00000000e+00\n",
      "     0.00000000e+00   0.00000000e+00   0.00000000e+00   0.00000000e+00\n",
      "     0.00000000e+00   0.00000000e+00]\n",
      "  [  0.00000000e+00   0.00000000e+00   0.00000000e+00   0.00000000e+00\n",
      "     0.00000000e+00   0.00000000e+00   0.00000000e+00   0.00000000e+00\n",
      "     0.00000000e+00   0.00000000e+00]]]\n"
     ]
    }
   ],
   "source": [
    "import numpy as np\n",
    "numBins = 10  # number of bins in each dimension\n",
    "data = np.random.randn(100000, 3)  # generate 100000 3-d random data points\n",
    "jointProbs, edges = np.histogramdd(data, bins=numBins)\n",
    "jointProbs /= jointProbs.sum()\n",
    "print(jointProbs)"
   ]
  },
  {
   "cell_type": "markdown",
   "metadata": {},
   "source": [
    "### Entropy"
   ]
  },
  {
   "cell_type": "code",
   "execution_count": 7,
   "metadata": {},
   "outputs": [],
   "source": [
    "#Joint\n",
    "import numpy as np\n",
    "\n",
    "def entropy(X):\n",
    "    probs = [np.mean(X == c) for c in set(X)]\n",
    "    return np.sum(-p * np.log2(p) for p in probs)"
   ]
  },
  {
   "cell_type": "code",
   "execution_count": 8,
   "metadata": {},
   "outputs": [],
   "source": [
    "def entropy(X, Y):\n",
    "    probs = []\n",
    "    for c1 in set(X):\n",
    "        for c2 in set(Y):\n",
    "            probs.append(np.mean(np.logical_and(X == c1, Y == c2)))\n",
    "\n",
    "    return np.sum(-p * np.log2(p) for p in probs)"
   ]
  },
  {
   "cell_type": "code",
   "execution_count": 9,
   "metadata": {},
   "outputs": [],
   "source": [
    "def entropy(*X, **kwargs):\n",
    "    predictions = parse_arg(X[0])\n",
    "    H = kwargs[\"H\"] if \"H\" in kwargs else 0\n",
    "    v = kwargs[\"v\"] if \"v\" in kwargs else np.array([True] * len(predictions))\n",
    "\n",
    "    for c in set(predictions):\n",
    "        if len(X) > 1:\n",
    "            H = entropy(*X[1:], v=np.logical_and(v, predictions == c), H=H)\n",
    "        else:\n",
    "            p = np.mean(np.logical_and(v, predictions == c))\n",
    "            H += -p * np.log2(p) if p > 0 else 0\n",
    "    return H"
   ]
  },
  {
   "cell_type": "code",
   "execution_count": 42,
   "metadata": {},
   "outputs": [
    {
     "name": "stderr",
     "output_type": "stream",
     "text": [
      "UsageError: Line magic function `%matplotlin` not found.\n"
     ]
    }
   ],
   "source": [
    "%matplotlin inline"
   ]
  },
  {
   "cell_type": "code",
   "execution_count": 43,
   "metadata": {},
   "outputs": [],
   "source": [
    "%matplotlib inline"
   ]
  },
  {
   "cell_type": "code",
   "execution_count": 10,
   "metadata": {},
   "outputs": [
    {
     "name": "stdout",
     "output_type": "stream",
     "text": [
      "Hello\n"
     ]
    }
   ],
   "source": [
    "print(\"Hello\")"
   ]
  },
  {
   "cell_type": "code",
   "execution_count": 11,
   "metadata": {},
   "outputs": [
    {
     "name": "stdout",
     "output_type": "stream",
     "text": [
      "Hello world\n"
     ]
    }
   ],
   "source": [
    "print(\"Hello world\")"
   ]
  },
  {
   "cell_type": "markdown",
   "metadata": {},
   "source": [
    "## Probability Events"
   ]
  },
  {
   "cell_type": "code",
   "execution_count": 18,
   "metadata": {},
   "outputs": [
    {
     "name": "stdout",
     "output_type": "stream",
     "text": [
      "6\n",
      "4\n",
      "6\n"
     ]
    }
   ],
   "source": [
    "dice=[1,2,3,4,5,6]\n",
    "\n",
    "n=len(dice)\n",
    "\n",
    "for i in range(0,n):\n",
    "    if((dice[i]%2==0)and(dice[i]%3)==0):\n",
    "        print(dice[i])\n",
    "\n",
    "#Union of events\n",
    "dice=[1,2,3,4,5,6]\n",
    "\n",
    "n=len(dice)\n",
    "\n",
    "for i in range(0,n):\n",
    "    if((dice[i]==4)or(dice[i]==6)):\n",
    "        print(dice[i])\n"
   ]
  },
  {
   "cell_type": "markdown",
   "metadata": {},
   "source": [
    "### Probability Samples"
   ]
  },
  {
   "cell_type": "code",
   "execution_count": 19,
   "metadata": {},
   "outputs": [
    {
     "name": "stdout",
     "output_type": "stream",
     "text": [
      "0.08\n"
     ]
    }
   ],
   "source": [
    "# Sample Space 1\n",
    "\n",
    "cards = 52\n",
    "\n",
    "# Outcomes\n",
    "aces = 4\n",
    "\n",
    "# Divide possible outcomes by the sample set\n",
    "ace_probability = aces / cards\n",
    "\n",
    "# Print probability rounded to two decimal places\n",
    "print(round(ace_probability, 2))"
   ]
  },
  {
   "cell_type": "code",
   "execution_count": 20,
   "metadata": {},
   "outputs": [
    {
     "name": "stdout",
     "output_type": "stream",
     "text": [
      "0.25\n"
     ]
    }
   ],
   "source": [
    "# Sample Space 2\n",
    "\n",
    "cards = 52\n",
    "\n",
    "# Determine the probability of drawing a heart\n",
    "hearts = 13\n",
    "hearts_probability = hearts/cards\n",
    "\n",
    "print(round(hearts_probability,2))"
   ]
  },
  {
   "cell_type": "code",
   "execution_count": 21,
   "metadata": {},
   "outputs": [
    {
     "name": "stdout",
     "output_type": "stream",
     "text": [
      "25.0%\n",
      "23.1%\n",
      "1.9%\n"
     ]
    }
   ],
   "source": [
    "# Create function that returns probability percent rounded to one decimal place\n",
    "def event_probability(event_outcomes, sample_space):\n",
    "    probability = (event_outcomes / sample_space) * 100\n",
    "    return round(probability, 1)\n",
    "\n",
    "# Sample Space 3\n",
    "\n",
    "cards = 52\n",
    "\n",
    "# Determine the probability of drawing a heart\n",
    "hearts = 13\n",
    "heart_probability = event_probability(hearts, cards)\n",
    "\n",
    "# Determine the probability of drawing a face card\n",
    "face_cards = 12\n",
    "face_card_probability = event_probability(face_cards, cards)\n",
    "\n",
    "# Determine the probability of drawing the queen of hearts\n",
    "ace_of_hearts = 1\n",
    "ace_of_hearts_probability = event_probability(ace_of_hearts, cards)\n",
    "\n",
    "# Print each probability\n",
    "print(str(heart_probability) + '%')\n",
    "print(str(face_card_probability) + '%')\n",
    "print(str(ace_of_hearts_probability) + '%')"
   ]
  },
  {
   "cell_type": "code",
   "execution_count": 22,
   "metadata": {},
   "outputs": [
    {
     "name": "stdout",
     "output_type": "stream",
     "text": [
      "19.6\n"
     ]
    }
   ],
   "source": [
    "# Sample Space 4\n",
    "\n",
    "cards = 52\n",
    "hole_cards = 2\n",
    "turn_community_cards = 4\n",
    "cards = cards - (hole_cards + turn_community_cards)\n",
    "\n",
    "# Outcomes\n",
    "diamonds = 13\n",
    "diamonds_drawn = 4\n",
    "# In poker, cards that complete a draw are known as \"outs\"\n",
    "outs = diamonds - diamonds_drawn\n",
    "\n",
    "#Determine river flush probability\n",
    "river_flush_probability = event_probability(outs, cards)\n",
    "print(river_flush_probability)"
   ]
  },
  {
   "cell_type": "code",
   "execution_count": null,
   "metadata": {},
   "outputs": [],
   "source": []
  },
  {
   "cell_type": "code",
   "execution_count": null,
   "metadata": {},
   "outputs": [],
   "source": []
  },
  {
   "cell_type": "markdown",
   "metadata": {},
   "source": [
    "# Distribution"
   ]
  },
  {
   "cell_type": "markdown",
   "metadata": {},
   "source": [
    "## Types of Distributions"
   ]
  },
  {
   "cell_type": "markdown",
   "metadata": {},
   "source": [
    "### Normal Distribution"
   ]
  },
  {
   "cell_type": "code",
   "execution_count": 13,
   "metadata": {},
   "outputs": [
    {
     "data": {
      "image/png": "[encoded data removed]",
      "text/plain": [
       "<Figure size 432x288 with 1 Axes>"
      ]
     },
     "metadata": {},
     "output_type": "display_data"
    },
    {
     "data": {
      "image/png": "[encoded data removed]",
      "text/plain": [
       "<Figure size 648x648 with 1 Axes>"
      ]
     },
     "metadata": {},
     "output_type": "display_data"
    }
   ],
   "source": [
    "from scipy.stats import norm\n",
    "import numpy as np\n",
    "import matplotlib.pyplot as plt\n",
    "\n",
    "\n",
    "x= np.arange(-4,4,0.001)\n",
    "plt.plot(x, norm.pdf(x))\n",
    "\n",
    "plt.show()\n",
    "\n",
    "\n",
    "#new\n",
    "import numpy as np\n",
    "import pandas as pd\n",
    "import matplotlib.pyplot as plt\n",
    "import scipy.stats  as stats\n",
    "\n",
    "uniform_data = stats.uniform.rvs(size=100000,  # Generate 100000 numbers\n",
    "                                 loc = 0,      # From 0\n",
    "                                 scale=10)     # To 10\n",
    "\n",
    "pd.DataFrame(uniform_data).plot(kind=\"density\",  # Plot the distribution\n",
    "                               figsize=(9,9),\n",
    "                               xlim=(-1,11))\n",
    "\n",
    "from scipy.stats import norm\n",
    "import numpy as np\n",
    "import matplotlib.pyplot as plt\n",
    "\n",
    "\n",
    "x= np.arange(-4,4,0.001)\n",
    "plt.plot(x, norm.pdf(x))\n",
    "\n",
    "plt.show()\n"
   ]
  },
  {
   "cell_type": "code",
   "execution_count": 14,
   "metadata": {},
   "outputs": [
    {
     "data": {
      "image/png": "[encoded data removed]",
      "text/plain": [
       "<Figure size 432x288 with 1 Axes>"
      ]
     },
     "metadata": {},
     "output_type": "display_data"
    }
   ],
   "source": [
    "from scipy.stats import norm\n",
    "import numpy as np\n",
    "import matplotlib.pyplot as plt\n",
    "\n",
    "\n",
    "x= np.arange(-4,4,0.001)\n",
    "plt.plot(x, norm.pdf(x))\n",
    "\n",
    "plt.show()"
   ]
  },
  {
   "cell_type": "code",
   "execution_count": 15,
   "metadata": {},
   "outputs": [
    {
     "data": {
      "text/plain": [
       "[<matplotlib.lines.Line2D at 0x275b1b31b00>]"
      ]
     },
     "execution_count": 15,
     "metadata": {},
     "output_type": "execute_result"
    },
    {
     "data": {
      "image/png": "[encoded data removed]",
      "text/plain": [
       "<Figure size 432x288 with 1 Axes>"
      ]
     },
     "metadata": {},
     "output_type": "display_data"
    }
   ],
   "source": [
    "#Normal Distribution\n",
    "\n",
    "import numpy as np\n",
    "import matplotlib.pyplot as pl\n",
    "\n",
    "x = np.random.randn(10000)\n",
    "\n",
    "nbins = 20\n",
    "\n",
    "n, bins = np.histogram(x, nbins)\n",
    "pdfx = np.zeros(n.size)\n",
    "pdfy = np.zeros(n.size)\n",
    "for k in range(n.size):\n",
    "    pdfx[k] = 0.5*(bins[k]+bins[k+1])\n",
    "    pdfy[k] = n[k]\n",
    "\n",
    "pl.plot(pdfx, pdfy)"
   ]
  },
  {
   "cell_type": "markdown",
   "metadata": {},
   "source": [
    "# Bayes Theorem"
   ]
  },
  {
   "cell_type": "markdown",
   "metadata": {},
   "source": [
    "### Sample 1"
   ]
  },
  {
   "cell_type": "code",
   "execution_count": 16,
   "metadata": {},
   "outputs": [
    {
     "name": "stdout",
     "output_type": "stream",
     "text": [
      "Probability of being from FR: 0.2222222222222222\n",
      "Probability to be French Boy: 0.1111111111111111\n",
      "Probability of being a Boy given a person is from FR: 0.5\n",
      "Probability to be from France given person is Boy: 0.3333333333333333\n",
      "Probability economy is growing when stock is Up: 0.8421052631578948\n"
     ]
    }
   ],
   "source": [
    "#Bayes Theorem\n",
    "def get_outcomes(sample_space, f_name='', e_name=''):\n",
    "    outcomes = 0\n",
    "    for e_k, e_v in sample_space.items():\n",
    "        if f_name=='' or f_name==e_k:\n",
    "            for se_k, se_v in e_v.items():\n",
    "                if e_name!='' and se_k == e_name:\n",
    "                    outcomes+=se_v\n",
    "                elif e_name=='':\n",
    "                    outcomes+=se_v\n",
    "    return outcomes\n",
    "\n",
    "def p(sample_space, f_name):\n",
    "    return get_outcomes(sample_space, f_name) / get_outcomes(sample_space, '', '')\n",
    "\n",
    "def p_inters(sample_space, f_name, e_name):\n",
    "    return get_outcomes(sample_space, f_name, e_name) / get_outcomes(sample_space, '', '')\n",
    "\n",
    "def p_conditional(sample_space, f_name, e_name):\n",
    "    return p_inters(sample_space, f_name, e_name) / p(sample_space, f_name)\n",
    "\n",
    "def bayes(sample_space, f, given_e):\n",
    "    sum = 0;\n",
    "    for e_k, e_v in sample_space.items():\n",
    "        sum+=p(sample_space, e_k) * p_conditional(sample_space, e_k, given_e)\n",
    "    return p(sample_space, f) * p_conditional(sample_space, f, given_e) / sum\n",
    "\n",
    "sample_space = {'UK':{'Boy':10, 'Girl':20},\n",
    "                'FR':{'Boy':10, 'Girl':10},\n",
    "                'CA':{'Boy':10, 'Girl':30}}\n",
    "\n",
    "print('Probability of being from FR:', p(sample_space, 'FR'))\n",
    "print('Probability to be French Boy:', p_inters(sample_space, 'FR', 'Boy'))\n",
    "print('Probability of being a Boy given a person is from FR:', p_conditional(sample_space, 'FR', 'Boy'))\n",
    "print('Probability to be from France given person is Boy:', bayes(sample_space, 'FR', 'Boy'))\n",
    "\n",
    "sample_space = {'Grow' :{'Up':160, 'Down':40},\n",
    "                'Slows':{'Up':30, 'Down':70}}\n",
    "\n",
    "print('Probability economy is growing when stock is Up:', bayes(sample_space, 'Grow', 'Up'))"
   ]
  },
  {
   "cell_type": "markdown",
   "metadata": {},
   "source": [
    "### Sample 2"
   ]
  },
  {
   "cell_type": "code",
   "execution_count": 17,
   "metadata": {},
   "outputs": [
    {
     "name": "stdout",
     "output_type": "stream",
     "text": [
      "[[1, 2]]\n",
      "You have selected door  1\n",
      "Oops, the car was behind door  2\n"
     ]
    },
    {
     "name": "stderr",
     "output_type": "stream",
     "text": [
      "C:\\Users\\VIJAY\\Anaconda3\\lib\\site-packages\\ipykernel_launcher.py:5: DeprecationWarning: This function is deprecated. Please call randint(1, 3 + 1) instead\n",
      "  \"\"\"\n"
     ]
    }
   ],
   "source": [
    "import numpy as np\n",
    "\n",
    "def month_hall():\n",
    "\n",
    "    [[selected_door,winning_door]]=np.random.random_integers(low=1,high=3,size=(1,2))\n",
    "    print([[selected_door,winning_door]])\n",
    "\n",
    "\n",
    "    door_options=[1,2,3]\n",
    "\n",
    "    if selected_door==winning_door:\n",
    "        door_options.remove(selected_door)\n",
    "        open_door=np.random.choice(door_options)\n",
    "        switching_door=door_options.remove(open_door)\n",
    "        print(\"You have selected door \", open_door)\n",
    "        print(\"Oops, the car was behind door \",winning_door)\n",
    "\n",
    "\n",
    "\n",
    "    else:\n",
    "        door_options.remove(selected_door)\n",
    "        door_options.remove(winning_door)\n",
    "        open_door=door_options\n",
    "\n",
    "        switching_door=winning_door\n",
    "        print(\"You have selected door \",selected_door)\n",
    "        print(\"Oops, the car was behind door \",winning_door)\n",
    "\n",
    "\n",
    "\n",
    "\n",
    "    if switching_door==winning_door:\n",
    "        switch=1\n",
    "        non_switch=0\n",
    "\n",
    "    else:\n",
    "        switch=0\n",
    "        non_switch=1\n",
    "\n",
    "        return(switch, non_switch)\n",
    "\n",
    "\n",
    "month_hall()"
   ]
  },
  {
   "cell_type": "markdown",
   "metadata": {},
   "source": [
    "# End of Probability Demo "
   ]
  }
 ],
 "metadata": {
  "kernelspec": {
   "display_name": "Python 3",
   "language": "python",
   "name": "python3"
  },
  "language_info": {
   "codemirror_mode": {
    "name": "ipython",
    "version": 3
   },
   "file_extension": ".py",
   "mimetype": "text/x-python",
   "name": "python",
   "nbconvert_exporter": "python",
   "pygments_lexer": "ipython3",
   "version": "3.6.5"
  }
 },
 "nbformat": 4,
 "nbformat_minor": 1
}
