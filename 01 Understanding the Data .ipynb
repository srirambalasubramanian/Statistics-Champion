{
 "cells": [
  {
   "cell_type": "markdown",
   "metadata": {},
   "source": [
    "# 1. Understanding the Data Demo"
   ]
  },
  {
   "cell_type": "markdown",
   "metadata": {},
   "source": [
    "# Ordinal data"
   ]
  },
  {
   "cell_type": "code",
   "execution_count": 21,
   "metadata": {},
   "outputs": [
    {
     "name": "stdout",
     "output_type": "stream",
     "text": [
      "Enter your percentage100\n",
      "Congratulations!! You got distinction\n"
     ]
    }
   ],
   "source": [
    "marks=int(input(\"Enter your percentage\"))\n",
    "\n",
    "if(marks<=40):\n",
    "    print(\"Fail\")\n",
    "elif((marks>40)&(marks<=50)):\n",
    "    print(\"Second Class\")\n",
    "elif((marks>50)&(marks<=60)):\n",
    "    print(\"First Class\")\n",
    "elif(marks>=60):\n",
    "    print(\"Congratulations!! You got distinction\")"
   ]
  },
  {
   "cell_type": "markdown",
   "metadata": {},
   "source": [
    "# Nominal data"
   ]
  },
  {
   "cell_type": "code",
   "execution_count": 22,
   "metadata": {},
   "outputs": [
    {
     "name": "stdout",
     "output_type": "stream",
     "text": [
      "Would you like to go for shopping? if yes then type Y / y else N/nY\n",
      "Do you love talking on any topic? if yes then type Y / y else N/nY\n",
      "Welcome to girls club\n"
     ]
    }
   ],
   "source": [
    "ans1=input(\"Would you like to go for shopping? if yes then type Y / y else N/n\")\n",
    "ans2=input(\"Do you love talking on any topic? if yes then type Y / y else N/n\")\n",
    "\n",
    "if(((ans1=='Y')|(ans1=='y'))&((ans2=='Y')|(ans2=='y'))):\n",
    "    print(\"Welcome to girls club\")\n",
    "else:\n",
    "    print(\"Sorry boys, you can not join the club\")"
   ]
  },
  {
   "cell_type": "markdown",
   "metadata": {},
   "source": [
    "## Mean Median Mode"
   ]
  },
  {
   "cell_type": "code",
   "execution_count": 20,
   "metadata": {},
   "outputs": [
    {
     "data": {
      "image/png": "[encoded data removed]",
      "text/plain": [
       "<Figure size 432x288 with 1 Axes>"
      ]
     },
     "metadata": {},
     "output_type": "display_data"
    },
    {
     "name": "stdout",
     "output_type": "stream",
     "text": [
      "5.1\n",
      "5.0\n",
      "The modal value is 5.0 with a count of 23\n"
     ]
    }
   ],
   "source": [
    "import matplotlib\n",
    "import matplotlib.pyplot as plt\n",
    "matplotlib.style.use('ggplot')\n",
    "import numpy as np\n",
    "from statistics import mode\n",
    "from scipy import stats\n",
    "\n",
    "np.random.seed(1)\n",
    "data = np.round(np.random.normal(5, 2, 100))\n",
    "plt.hist(data, bins=10, range=(0,10), edgecolor='black')\n",
    "\n",
    "plt.show()\n",
    "\n",
    "mean = np.mean(data)\n",
    "\n",
    "print(mean)\n",
    "\n",
    "print(np.median(data))\n",
    "\n",
    "mode = stats.mode(data)\n",
    "\n",
    "print(\"The modal value is {} with a count of {}\".format(mode.mode[0], mode.count[0]))\n"
   ]
  },
  {
   "cell_type": "code",
   "execution_count": 23,
   "metadata": {},
   "outputs": [
    {
     "name": "stdout",
     "output_type": "stream",
     "text": [
      "Mean is :  10.142857142857142\n",
      "Median is :  7.0\n",
      "\n",
      "\n",
      "Mean is :  10.142857142857142\n",
      "\n",
      "\n",
      "Mode is: 3\n"
     ]
    }
   ],
   "source": [
    "import pandas as pd\n",
    "import numpy as np\n",
    "\n",
    "x=[2,4,6,7,20,10,22]\n",
    "y=np.array(x)\n",
    "\n",
    "print(\"Mean is : \",y.mean())\n",
    "\n",
    "print(\"Median is : \",np.median(y))\n",
    "print(\"\\n\")\n",
    "print(\"Mean is : \",y.mean())\n",
    "\n",
    "print(\"\\n\")\n",
    "\n",
    "from statistics import mode\n",
    "print(\"Mode is:\",mode([1, 1, 2, 3, 3, 3, 3, 4]))"
   ]
  },
  {
   "cell_type": "code",
   "execution_count": 24,
   "metadata": {},
   "outputs": [
    {
     "name": "stdout",
     "output_type": "stream",
     "text": [
      "   Unnamed: 0  Gender  FSIQ  VIQ  PIQ  Weight  Height  MRI_Count\n",
      "0           1  Female   133  132  124   118.0    64.5     816932\n",
      "1           2    Male   140  150  124     NaN    72.5    1001121\n",
      "2           3    Male   139  123  150   143.0    73.3    1038437\n",
      "3           4    Male   133  129  128   172.0    68.8     965353\n",
      "4           5  Female   137  132  134   147.0    65.0     951545\n",
      "\n",
      "\n",
      "    Unnamed: 0  Gender  FSIQ  VIQ  PIQ  Weight  Height  MRI_Count\n",
      "0            1  Female   133  132  124   118.0    64.5     816932\n",
      "4            5  Female   137  132  134   147.0    65.0     951545\n",
      "5            6  Female    99   90  110   146.0    69.0     928799\n",
      "6            7  Female   138  136  131   138.0    64.5     991305\n",
      "7            8  Female    92   90   98   175.0    66.0     854258\n",
      "10          11  Female   132  129  124   118.0    64.5     833868\n",
      "13          14  Female   140  120  147   155.0    70.5     856472\n",
      "14          15  Female    96  100   90   146.0    66.0     878897\n",
      "15          16  Female    83   71   96   135.0    68.0     865363\n",
      "16          17  Female   132  132  120   127.0    68.5     852244\n",
      "18          19  Female   101  112   84   136.0    66.3     808020\n",
      "22          23  Female   135  129  134   122.0    62.0     790619\n",
      "24          25  Female    91   86  102   114.0    63.0     831772\n",
      "26          27  Female    85   90   84   140.0    68.0     798612\n",
      "28          29  Female    77   83   72   106.0    63.0     793549\n",
      "29          30  Female   130  126  124   159.0    66.5     866662\n",
      "30          31  Female   133  126  132   127.0    62.5     857782\n",
      "34          35  Female    83   90   81   143.0    66.5     834344\n",
      "35          36  Female   133  129  128   153.0    66.5     948066\n",
      "37          38  Female    88   86   94   139.0    64.5     893983\n",
      "\n",
      "\n",
      "The mean value of Female VIQ is  109.45\n",
      "\n",
      "\n",
      "[132 132  90 136  90 129 120 100  71 132 112 129  86  90  83 126 126  90\n",
      " 129  86]\n",
      "Mean VIQ:        109.45\n",
      "Median VIQ   116.0\n",
      "Standard deviation: 21.12220395697381\n",
      "Minimum VIQ:     71\n",
      "Maximum VIQ:     136\n"
     ]
    }
   ],
   "source": [
    "import pandas as pd\n",
    "import numpy as np\n",
    "\n",
    "data=pd.read_csv(\"brain_size.csv\",sep=';',na_values='.')\n",
    "print(data.head())\n",
    "\n",
    "print(\"\\n\")\n",
    "data1=data[data['Gender']=='Female']['VIQ']\n",
    "print(data[data['Gender']=='Female'])\n",
    "\n",
    "print(\"\\n\")\n",
    "print(\"The mean value of Female VIQ is \",\n",
    "      data1.mean())\n",
    "\n",
    "\n",
    "print(\"\\n\")\n",
    "\n",
    "VIQ = np.array(data1)\n",
    "print(VIQ)\n",
    "print(\"Mean VIQ:       \", VIQ.mean())\n",
    "\n",
    "print(\"Median VIQ  \",np.median(VIQ))\n",
    "\n",
    "print(\"Standard deviation:\", VIQ.std())\n",
    "print(\"Minimum VIQ:    \", VIQ.min())\n",
    "print(\"Maximum VIQ:    \", VIQ.max())"
   ]
  },
  {
   "cell_type": "markdown",
   "metadata": {},
   "source": [
    "## Variance"
   ]
  },
  {
   "cell_type": "code",
   "execution_count": 25,
   "metadata": {},
   "outputs": [
    {
     "name": "stdout",
     "output_type": "stream",
     "text": [
      "[13.98979592 12.8877551   6.12244898  3.92857143]\n",
      "[ 6.546875  5.921875  8.796875  7.546875  2.875    16.5      19.0625  ]\n"
     ]
    }
   ],
   "source": [
    "import numpy as np\n",
    "A=np.array([[10,14,11,7,9.5,15,19],[8,9,17,14.5,12,18,15.5],\n",
    "  [15,7.5,11.5,10,10.5,7,11],[11.5,11,9,12,14,12,7.5]])\n",
    "B=A.T\n",
    "a = np.var(B,axis=0)\n",
    "b = np.var(B,axis=1)\n",
    "print(a)\n",
    "\n",
    "print(b)"
   ]
  },
  {
   "cell_type": "markdown",
   "metadata": {},
   "source": [
    "## Standard Deviation"
   ]
  },
  {
   "cell_type": "code",
   "execution_count": 26,
   "metadata": {},
   "outputs": [
    {
     "name": "stdout",
     "output_type": "stream",
     "text": [
      "Sample average: 5.89\n",
      "Sample standard deviation: 0.57\n",
      "Improper standard deviation: 0.54\n",
      "\n",
      "Sample average: 5.75\n",
      "Sample standard deviation: 0.43\n",
      "Less improper standard deviation: 0.43\n"
     ]
    }
   ],
   "source": [
    "import numpy as np\n",
    "\n",
    "heights = [5.9, 5.5, 6.1, 6.0, 7.2, 5.1, 5.3, 6.0, 5.8, 6.0]\n",
    "print(\"Sample average: %.2f\" % np.mean(heights))\n",
    "print(\"Sample standard deviation: %.2f\" % np.std(heights, ddof=1))\n",
    "print(\"Improper standard deviation: %.2f\\n\" % np.std(heights))\n",
    "\n",
    "large_num_heights = np.random.random(size=100000)*1.5 + 5.0\n",
    "print(\"Sample average: %.2f\" % np.mean(large_num_heights))\n",
    "print(\"Sample standard deviation: %.2f\" % np.std(large_num_heights, ddof=1))\n",
    "print(\"Less improper standard deviation: %.2f\" % np.std(large_num_heights))\n"
   ]
  },
  {
   "cell_type": "code",
   "execution_count": 27,
   "metadata": {},
   "outputs": [
    {
     "name": "stdout",
     "output_type": "stream",
     "text": [
      "[3.74029356 3.58995196 2.4743583  1.98206242]\n",
      "[2.55868619 2.43349029 2.96595263 2.74715762 1.6955825  4.0620192\n",
      " 4.3660623 ]\n"
     ]
    }
   ],
   "source": [
    "import numpy as np\n",
    "A=np.array([[10,14,11,7,9.5,15,19],[8,9,17,14.5,12,18,15.5],\n",
    "  [15,7.5,11.5,10,10.5,7,11],[11.5,11,9,12,14,12,7.5]])\n",
    "B=A.T\n",
    "a = np.std(B,axis=0)\n",
    "b = np.std(B,axis=1)\n",
    "print(a)\n",
    "\n",
    "print(b)"
   ]
  },
  {
   "cell_type": "markdown",
   "metadata": {},
   "source": [
    "## Matplotlib - Mean, Median, Mode, Standard Deviation"
   ]
  },
  {
   "cell_type": "code",
   "execution_count": null,
   "metadata": {},
   "outputs": [],
   "source": [
    "%matplotlib inline"
   ]
  },
  {
   "cell_type": "code",
   "execution_count": 42,
   "metadata": {},
   "outputs": [
    {
     "data": {
      "image/png": "[encoded data removed]",
      "text/plain": [
       "<Figure size 432x288 with 1 Axes>"
      ]
     },
     "metadata": {},
     "output_type": "display_data"
    }
   ],
   "source": [
    "import numpy as np\n",
    "from scipy import stats\n",
    "\n",
    "import matplotlib\n",
    "import matplotlib.pyplot as plt\n",
    "%matplotlib inline\n",
    "matplotlib.style.use('ggplot')\n",
    "\n",
    "np.random.seed(1)\n",
    "data = np.round(np.random.normal(10, 5, 100))\n",
    "plt.hist(data, bins=10, range=(0,10), edgecolor='blue')\n",
    "plt.show()"
   ]
  },
  {
   "cell_type": "code",
   "execution_count": 43,
   "metadata": {},
   "outputs": [
    {
     "data": {
      "text/plain": [
       "10.34"
      ]
     },
     "execution_count": 43,
     "metadata": {},
     "output_type": "execute_result"
    }
   ],
   "source": [
    "mean = np.mean(data)\n",
    "mean"
   ]
  },
  {
   "cell_type": "code",
   "execution_count": 44,
   "metadata": {},
   "outputs": [
    {
     "data": {
      "text/plain": [
       "10.0"
      ]
     },
     "execution_count": 44,
     "metadata": {},
     "output_type": "execute_result"
    }
   ],
   "source": [
    "np.median(data)"
   ]
  },
  {
   "cell_type": "code",
   "execution_count": 45,
   "metadata": {},
   "outputs": [
    {
     "name": "stdout",
     "output_type": "stream",
     "text": [
      "The modal value is 7.0 with a count of 11\n"
     ]
    }
   ],
   "source": [
    "mode = stats.mode(data)\n",
    "\n",
    "print(\"The modal value is {} with a count of {}\".format(mode.mode[0], mode.count[0]))"
   ]
  },
  {
   "cell_type": "code",
   "execution_count": 46,
   "metadata": {},
   "outputs": [
    {
     "data": {
      "text/plain": [
       "23.0"
      ]
     },
     "execution_count": 46,
     "metadata": {},
     "output_type": "execute_result"
    }
   ],
   "source": [
    "np.ptp(data)"
   ]
  },
  {
   "cell_type": "code",
   "execution_count": 47,
   "metadata": {},
   "outputs": [
    {
     "data": {
      "text/plain": [
       "19.824400000000004"
      ]
     },
     "execution_count": 47,
     "metadata": {},
     "output_type": "execute_result"
    }
   ],
   "source": [
    "np.var(data)"
   ]
  },
  {
   "cell_type": "code",
   "execution_count": 48,
   "metadata": {},
   "outputs": [
    {
     "data": {
      "text/plain": [
       "4.452459994205451"
      ]
     },
     "execution_count": 48,
     "metadata": {},
     "output_type": "execute_result"
    }
   ],
   "source": [
    "data.std()"
   ]
  },
  {
   "cell_type": "markdown",
   "metadata": {},
   "source": [
    "## Range"
   ]
  },
  {
   "cell_type": "code",
   "execution_count": 35,
   "metadata": {},
   "outputs": [
    {
     "name": "stdout",
     "output_type": "stream",
     "text": [
      "[12.  10.   8.   6.5]\n",
      "[ 7.   6.5  8.   7.5  4.5 11.  11.5]\n"
     ]
    }
   ],
   "source": [
    "import numpy as np\n",
    "A=np.array([[10,14,11,7,9.5,15,19],[8,9,17,14.5,12,18,15.5], [15,7.5,11.5,10,10.5,7,11],[11.5,11,9,12,14,12,7.5]])\n",
    "B=A.T\n",
    "a=np.ptp(B, axis=0)\n",
    "b=np.ptp(B,axis=1)\n",
    "print(a)\n",
    "\n",
    "print(b)"
   ]
  },
  {
   "cell_type": "markdown",
   "metadata": {},
   "source": [
    "## Quartile"
   ]
  },
  {
   "cell_type": "code",
   "execution_count": 36,
   "metadata": {},
   "outputs": [
    {
     "name": "stdout",
     "output_type": "stream",
     "text": [
      "[9.5 9.  7.5 9. ]\n",
      "[8.  7.5 9.  7.  9.5 7.  7.5]\n",
      "[14.  15.5 11.  12. ]\n",
      "[11.  14.5 10.5 11.5]\n"
     ]
    }
   ],
   "source": [
    "A=np.array([[10,14,11,7,9.5,15,19],[8,9,17,14.5,12,18,15.5], [15,7.5,11.5,10,10.5,7,11],[11.5,11,9,12,14,12,7.5]])\n",
    "B=A.T\n",
    "a=np.percentile(B,27,axis=0, interpolation='lower')\n",
    "b=np.percentile(B,25,axis=1, interpolation='lower')\n",
    "c=np.percentile(B,75,axis=0, interpolation='lower')\n",
    "d=np.percentile(B,50,axis=0, interpolation='lower')\n",
    "print(a)\n",
    "\n",
    "print(b)\n",
    "\n",
    "print(c)\n",
    "\n",
    "print(d)"
   ]
  },
  {
   "cell_type": "markdown",
   "metadata": {},
   "source": [
    "## inter-qurtile range - Not Working"
   ]
  },
  {
   "cell_type": "code",
   "execution_count": 40,
   "metadata": {},
   "outputs": [
    {
     "ename": "SyntaxError",
     "evalue": "invalid syntax (<ipython-input-40-ebcf7aac0f89>, line 1)",
     "output_type": "error",
     "traceback": [
      "\u001b[1;36m  File \u001b[1;32m\"<ipython-input-40-ebcf7aac0f89>\"\u001b[1;36m, line \u001b[1;32m1\u001b[0m\n\u001b[1;33m    import numpy as np from scipy.stats import iqr\u001b[0m\n\u001b[1;37m                          ^\u001b[0m\n\u001b[1;31mSyntaxError\u001b[0m\u001b[1;31m:\u001b[0m invalid syntax\n"
     ]
    }
   ],
   "source": [
    "import numpy as np from scipy.stats import iqr\n",
    "\n",
    "A=np.array([[10,14,11,7,9.5,15,19],[8,9,17,14.5,12,18,15.5] [15,7.5,11.5,10,10.5,7,11],[11.5,11,9,12,14,12,7.5]])\n",
    "B=A.T\n",
    "a=iqr(B, axis=0 , rng=(25, 75), interpolation='lower')\n",
    "b=iqr(B, axis=1 , rng=(25, 75), interpolation='lower')\n",
    "print(a,b)"
   ]
  },
  {
   "cell_type": "markdown",
   "metadata": {},
   "source": [
    "# End of Understanding the Data Demo"
   ]
  }
 ],
 "metadata": {
  "kernelspec": {
   "display_name": "Python 3",
   "language": "python",
   "name": "python3"
  },
  "language_info": {
   "codemirror_mode": {
    "name": "ipython",
    "version": 3
   },
   "file_extension": ".py",
   "mimetype": "text/x-python",
   "name": "python",
   "nbconvert_exporter": "python",
   "pygments_lexer": "ipython3",
   "version": "3.6.5"
  }
 },
 "nbformat": 4,
 "nbformat_minor": 1
}
