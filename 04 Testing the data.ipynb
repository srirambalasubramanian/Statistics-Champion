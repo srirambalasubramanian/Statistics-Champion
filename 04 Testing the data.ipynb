{
 "cells": [
  {
   "cell_type": "markdown",
   "metadata": {},
   "source": [
    "# 04 Testing the Data Demo"
   ]
  },
  {
   "cell_type": "markdown",
   "metadata": {},
   "source": [
    "# Types of Testing\n",
    "\n",
    "1. Non Parametric Testing     2. Parametric Testing   3.A/B Testing"
   ]
  },
  {
   "cell_type": "markdown",
   "metadata": {},
   "source": [
    "## 1. Non Parametric Testing"
   ]
  },
  {
   "cell_type": "markdown",
   "metadata": {},
   "source": [
    "### Chi Square Testing"
   ]
  },
  {
   "cell_type": "code",
   "execution_count": 10,
   "metadata": {},
   "outputs": [
    {
     "name": "stdout",
     "output_type": "stream",
     "text": [
      "National\n",
      "col_0      count\n",
      "0               \n",
      "asian      15000\n",
      "black      50000\n",
      "hispanic   60000\n",
      "other      35000\n",
      "white     100000\n",
      " \n",
      "Minnesota\n",
      "col_0     count\n",
      "0              \n",
      "asian        75\n",
      "black       250\n",
      "hispanic    300\n",
      "other       150\n",
      "white       600\n",
      "col_0\n",
      "count    18.194805\n",
      "dtype: float64\n",
      "Critical value\n",
      "9.487729036781154\n",
      "P value\n",
      "[0.00113047]\n"
     ]
    },
    {
     "data": {
      "text/plain": [
       "Power_divergenceResult(statistic=array([18.19480519]), pvalue=array([0.00113047]))"
      ]
     },
     "execution_count": 10,
     "metadata": {},
     "output_type": "execute_result"
    }
   ],
   "source": [
    "import numpy as np\n",
    "import pandas as pd\n",
    "import scipy.stats as stats\n",
    "\n",
    "national = pd.DataFrame([\"white\"] * 100000 + [\"hispanic\"] * 60000 + \\\n",
    "                        [\"black\"] * 50000 + [\"asian\"] * 15000 + [\"other\"] * 35000)\n",
    "\n",
    "minnesota = pd.DataFrame([\"white\"] * 600 + [\"hispanic\"] * 300 + \\\n",
    "                         [\"black\"] * 250 + [\"asian\"] * 75 + [\"other\"] * 150)\n",
    "\n",
    "national_table = pd.crosstab(index=national[0], columns=\"count\")\n",
    "minnesota_table = pd.crosstab(index=minnesota[0], columns=\"count\")\n",
    "\n",
    "print(\"National\")\n",
    "print(national_table)\n",
    "print(\" \")\n",
    "print(\"Minnesota\")\n",
    "print(minnesota_table)\n",
    "\n",
    "observed = minnesota_table\n",
    "\n",
    "national_ratios = national_table/len(national)  # Get population ratios\n",
    "\n",
    "expected = national_ratios * len(minnesota)   # Get expected counts\n",
    "\n",
    "chi_squared_stat = (((observed-expected)**2)/expected).sum()\n",
    "\n",
    "print(chi_squared_stat)\n",
    "\n",
    "\n",
    "crit = stats.chi2.ppf(q = 0.95, # Find the critical value for 95% confidence*\n",
    "                      df = 4)   # Df = number of variable categories - 1\n",
    "\n",
    "print(\"Critical value\")\n",
    "print(crit)\n",
    "\n",
    "p_value = 1 - stats.chi2.cdf(x=chi_squared_stat,  # Find the p-value\n",
    "                             df=4)\n",
    "print(\"P value\")\n",
    "print(p_value)\n",
    "\n",
    "stats.chisquare(f_obs= observed,   # Array of observed counts\n",
    "                f_exp= expected)   # Array of expected counts"
   ]
  },
  {
   "cell_type": "markdown",
   "metadata": {},
   "source": [
    "## 2. Parametric Testing\n",
    "\n",
    "Z Testing              T Testing       P  Testing ANOVA Testing"
   ]
  },
  {
   "cell_type": "markdown",
   "metadata": {},
   "source": [
    "### Z Testing"
   ]
  },
  {
   "cell_type": "code",
   "execution_count": 1,
   "metadata": {},
   "outputs": [
    {
     "name": "stdout",
     "output_type": "stream",
     "text": [
      "-2.369 0.0179\n"
     ]
    }
   ],
   "source": [
    "def twoSampZ(X1, X2, mudiff, sd1, sd2, n1, n2):\n",
    "    from numpy import sqrt, abs, round\n",
    "    from scipy.stats import norm\n",
    "    pooledSE = sqrt(sd1**2/n1 + sd2**2/n2)\n",
    "    z = ((X1 - X2) - mudiff)/pooledSE\n",
    "    pval = 2*(1 - norm.cdf(abs(z)))\n",
    "    return round(z, 3), round(pval, 4)\n",
    "\n",
    "z, p = twoSampZ(28, 33, 0, 14.1, 9.5, 75, 50)\n",
    "print(z, p)"
   ]
  },
  {
   "cell_type": "markdown",
   "metadata": {},
   "source": [
    "### T Testing"
   ]
  },
  {
   "cell_type": "code",
   "execution_count": 3,
   "metadata": {},
   "outputs": [
    {
     "name": "stdout",
     "output_type": "stream",
     "text": [
      "   Low_Light  High_Light\n",
      "0         49          45\n",
      "1         31          40\n",
      "2         43          59\n",
      "3         31          58\n",
      "4         40          55\n",
      "5         44          50\n",
      "6         49          46\n",
      "7         48          53\n",
      "8         33          43\n",
      "[49 31 43 31 40 44 49 48 33]\n",
      "[45 40 59 58 55 50 46 53 43]\n",
      "ttest_ind:            t = -2.66075  p = 0.0172063\n"
     ]
    }
   ],
   "source": [
    "import pandas as pd\n",
    "from scipy.stats import ttest_ind, ttest_ind_from_stats\n",
    "\n",
    "df=pd.read_csv('T-test.csv')\n",
    "print(df)\n",
    "\n",
    "var1=df['Low_Light'].values\n",
    "var2=df['High_Light'].values\n",
    "\n",
    "print(var1)\n",
    "print(var2)\n",
    "\n",
    "t, p = ttest_ind(var1, var2, equal_var=False)\n",
    "print(\"ttest_ind:            t = %g  p = %g\" % (t, p))"
   ]
  },
  {
   "cell_type": "code",
   "execution_count": 2,
   "metadata": {},
   "outputs": [
    {
     "name": "stdout",
     "output_type": "stream",
     "text": [
      "1.3666602264872862\n",
      "3.8682657022682223\n",
      "t = 3.8682657022682223\n",
      "p = 0.0011263185513268326\n",
      "t = 3.8682657022682214\n",
      "p = 0.0022526371026537254\n"
     ]
    }
   ],
   "source": [
    "## Import the packages\n",
    "import numpy as np\n",
    "from scipy import stats\n",
    "\n",
    "## Define 2 random distributions\n",
    "#Sample Size\n",
    "N = 10\n",
    "#Gaussian distributed data with mean = 2 and var = 1\n",
    "a = np.random.randn(N) + 2\n",
    "#Gaussian distributed data with with mean = 0 and var = 1\n",
    "b = np.random.randn(N)\n",
    "\n",
    "## Calculate the Standard Deviation\n",
    "#Calculate the variance to get the standard deviation\n",
    "\n",
    "#For unbiased max likelihood estimate we have to divide the var by N-1, and therefore the parameter ddof = 1\n",
    "var_a = a.var(ddof=1)\n",
    "var_b = b.var(ddof=1)\n",
    "\n",
    "#std deviation\n",
    "s = np.sqrt((var_a + var_b)/2)\n",
    "print(s)\n",
    "\n",
    "## Calculate the t-statistics\n",
    "t = (a.mean() - b.mean())/(s*np.sqrt(2/N))\n",
    "print(t)\n",
    "\n",
    "## Compare with the critical t-value\n",
    "#Degrees of freedom\n",
    "df = 2*N - 2\n",
    "\n",
    "#p-value after comparison with the t\n",
    "p = 1 - stats.t.cdf(t,df=df)\n",
    "\n",
    "print(\"t = \" + str(t))\n",
    "print(\"p = \" + str(2*p))\n",
    "#Note that we multiply the p value by 2 because its a twp tail t-test\n",
    "### You can see that after comparing the t statistic with the critical t value (computed internally)\n",
    "# we get a good p value of 0.0005 and thus we reject the null hypothesis and thus it proves that the mean\n",
    "# of the two distributions are different and statistically significant.\n",
    "## Cross Checking with the internal scipy function\n",
    "t2, p2 = stats.ttest_ind(a,b)\n",
    "print(\"t = \" + str(t2))\n",
    "print(\"p = \" + str(2*p2))"
   ]
  },
  {
   "cell_type": "markdown",
   "metadata": {},
   "source": [
    "### Anova Testing"
   ]
  },
  {
   "cell_type": "code",
   "execution_count": 11,
   "metadata": {},
   "outputs": [
    {
     "name": "stdout",
     "output_type": "stream",
     "text": [
      "   food 1  food 2  food 3  food 4\n",
      "0    60.8    68.7   102.6    87.9\n",
      "1    57.0    67.7   102.1    84.2\n",
      "2    65.0    74.0   100.2    83.1\n",
      "3    58.6    66.3    96.5    85.7\n",
      "4    61.7    69.8     NaN    90.3\n",
      "[60.8 57.  65.  58.6 61.7]\n",
      "[68.7 67.7 74.  66.3 69.8]\n",
      "[102.6 102.1 100.2  96.5   nan]\n",
      "[87.9 84.2 83.1 85.7 90.3]\n",
      "F_onewayResult(statistic=nan, pvalue=nan)\n",
      "F_onewayResult(statistic=1.8181818181818181, pvalue=0.24138718539465462)\n"
     ]
    }
   ],
   "source": [
    "import pandas as pd\n",
    "from scipy.stats import ttest_ind, ttest_ind_from_stats\n",
    "import numpy as np\n",
    "\n",
    "\n",
    "df=pd.read_csv(\"fish.csv\")\n",
    "print(df)\n",
    "\n",
    "var1=df['food 1'].values\n",
    "var2=df['food 2'].values\n",
    "var3=df['food 3'].values\n",
    "var4=df['food 4'].values\n",
    "\n",
    "print(var1)\n",
    "print(var2)\n",
    "print(var3)\n",
    "print(var4)\n",
    "\n",
    "v1=np.array(var1)\n",
    "v2=np.array(var2)\n",
    "v3=np.array(var3)\n",
    "v4=np.array(var3)\n",
    "\n",
    "from scipy import stats\n",
    "print(stats.f_oneway(v1, v2, v3, v4))\n",
    "\n",
    "import numpy as np\n",
    "from scipy import stats\n",
    "food1 = np.array([ 31, 32, 53 ])\n",
    "food2 = np.array([ 79, 48, 49 ])\n",
    "food3= np.array([ 55, 46, 45])\n",
    "\n",
    "print(stats.f_oneway(food1, food2, food3))"
   ]
  },
  {
   "cell_type": "markdown",
   "metadata": {},
   "source": [
    "## 3. A/B Testing"
   ]
  },
  {
   "cell_type": "code",
   "execution_count": 7,
   "metadata": {},
   "outputs": [
    {
     "name": "stdout",
     "output_type": "stream",
     "text": [
      "<bound method rv_frozen.mean of <scipy.stats._distn_infrastructure.rv_frozen object at 0x0000028C9D3CC080>>\n",
      "0.00596311824104283 0.12855402038414632\n"
     ]
    }
   ],
   "source": [
    "import numpy as np\n",
    "from scipy import stats\n",
    "data={\n",
    "    'A':{'views':42,'signup':2},\n",
    "    'B':{'views':85,'signup':11}\n",
    "}\n",
    "\n",
    "posteriors={variations:stats.beta(logs['signup'],logs['views']-logs['signup'])\n",
    "            for variations, logs in data.items()}\n",
    "print(posteriors['A'].mean)\n",
    "\n",
    "print(posteriors['A'].ppf(0.025),posteriors['A'].ppf(0.975))"
   ]
  },
  {
   "cell_type": "markdown",
   "metadata": {},
   "source": [
    "# 4. Distribution Testing"
   ]
  },
  {
   "cell_type": "markdown",
   "metadata": {},
   "source": [
    "## Binomial Distribution using A/B Testing - Not Working Pymc3"
   ]
  },
  {
   "cell_type": "code",
   "execution_count": null,
   "metadata": {},
   "outputs": [],
   "source": [
    "import pymc3 as pm\n",
    "import seaborn as sb\n",
    "\n",
    "n = 1000\n",
    "obs_v1 = 680\n",
    "obs_v2 = 700\n",
    "\n",
    "print(\"Visitors on page A \",obs_v1)\n",
    "print(\"Visitors on page B \",obs_v2)\n",
    "\n",
    "with pm.Model() as model: # context management\n",
    "    # define priors\n",
    "    prior_v1 = pm.Beta('prior_v1', alpha=2, beta=2)\n",
    "    prior_v2 = pm.Beta('prior_v2', alpha=2, beta=2)\n",
    "\n",
    "    # define likelihood\n",
    "    like_v1 = pm.Binomial('like_v1', n=n, p=prior_v1, observed=obs_v1)\n",
    "    like_v2 = pm.Binomial('like_v2', n=n, p=prior_v2, observed=obs_v2)\n",
    "\n",
    "# define metrics\n",
    "pm.Deterministic('difference', prior_v2 - prior_v1)\n",
    "pm.Deterministic('relation', (prior_v2/prior_v1) - 1)\n",
    "\n",
    "# inference\n",
    "trace = pm.sample(draws=50000, step=pm.Metropolis(), start=pm.find_MAP(), progressbar=True)\n",
    "\n",
    "_ = pm.traceplot(trace[1000:], grid=True)"
   ]
  },
  {
   "cell_type": "markdown",
   "metadata": {},
   "source": [
    "## Poison Distribution using t testing"
   ]
  },
  {
   "cell_type": "code",
   "execution_count": 8,
   "metadata": {},
   "outputs": [
    {
     "name": "stdout",
     "output_type": "stream",
     "text": [
      "43.000112\n",
      "39.26\n",
      "Ttest_1sampResult(statistic=-2.5742714883655027, pvalue=0.013118685425061678)\n"
     ]
    },
    {
     "data": {
      "text/plain": [
       "-2.0095752344892093"
      ]
     },
     "execution_count": 8,
     "metadata": {},
     "output_type": "execute_result"
    }
   ],
   "source": [
    "import numpy as np\n",
    "import pandas as pd\n",
    "import scipy.stats as stats\n",
    "import matplotlib.pyplot as plt\n",
    "import math\n",
    "\n",
    "\n",
    "np.random.seed(6)\n",
    "\n",
    "population_ages1 = stats.poisson.rvs(loc=18, mu=35, size=150000)\n",
    "population_ages2 = stats.poisson.rvs(loc=18, mu=10, size=100000)\n",
    "population_ages = np.concatenate((population_ages1, population_ages2))\n",
    "\n",
    "minnesota_ages1 = stats.poisson.rvs(loc=18, mu=30, size=30)\n",
    "minnesota_ages2 = stats.poisson.rvs(loc=18, mu=10, size=20)\n",
    "minnesota_ages = np.concatenate((minnesota_ages1, minnesota_ages2))\n",
    "\n",
    "print( population_ages.mean() )\n",
    "print( minnesota_ages.mean() )\n",
    "\n",
    "print(stats.ttest_1samp(a= minnesota_ages,               # Sample data\n",
    "                 popmean= population_ages.mean()) ) # Pop mean\n",
    "\n",
    "stats.t.ppf(q=0.025,  # Quantile to check\n",
    "            df=49)  # Degrees of freedom"
   ]
  },
  {
   "cell_type": "markdown",
   "metadata": {},
   "source": [
    "# End of Testing the Data Demo"
   ]
  }
 ],
 "metadata": {
  "kernelspec": {
   "display_name": "Python 3",
   "language": "python",
   "name": "python3"
  },
  "language_info": {
   "codemirror_mode": {
    "name": "ipython",
    "version": 3
   },
   "file_extension": ".py",
   "mimetype": "text/x-python",
   "name": "python",
   "nbconvert_exporter": "python",
   "pygments_lexer": "ipython3",
   "version": "3.6.5"
  }
 },
 "nbformat": 4,
 "nbformat_minor": 2
}
